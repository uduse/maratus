{
 "cells": [
  {
   "cell_type": "code",
   "execution_count": 1,
   "metadata": {
    "ExecuteTime": {
     "end_time": "2020-07-08T22:51:18.979565Z",
     "start_time": "2020-07-08T22:51:18.092904Z"
    }
   },
   "outputs": [
    {
     "name": "stderr",
     "output_type": "stream",
     "text": [
      "/Users/Uduse/.local/share/virtualenvs/maratus-cJm6oHg7/lib/python3.7/site-packages/ipykernel_launcher.py:8: TqdmExperimentalWarning: Using `tqdm.autonotebook.tqdm` in notebook mode. Use `tqdm.tqdm` instead to force console mode (e.g. in jupyter console)\n",
      "  \n"
     ]
    }
   ],
   "source": [
    "import random\n",
    "import numpy as np\n",
    "import uuid\n",
    "from enum import Enum, auto\n",
    "import anytree\n",
    "import functools\n",
    "import collections\n",
    "from tqdm.autonotebook import tqdm"
   ]
  },
  {
   "cell_type": "markdown",
   "metadata": {},
   "source": [
    "# Lib Definitions"
   ]
  },
  {
   "cell_type": "code",
   "execution_count": 2,
   "metadata": {
    "ExecuteTime": {
     "end_time": "2020-07-08T22:51:18.985241Z",
     "start_time": "2020-07-08T22:51:18.981256Z"
    }
   },
   "outputs": [],
   "source": [
    "def get_node_id():\n",
    "    return str(uuid.uuid4())[:8]\n",
    "\n",
    "class Node(anytree.Node):\n",
    "    def __init__(self, *args, **kwargs):\n",
    "        super().__init__(*args, _id=get_node_id(), **kwargs)\n",
    "\n",
    "    def print(self):\n",
    "        print(anytree.RenderTree(self).by_attr(lambda n: str(n.name)))"
   ]
  },
  {
   "cell_type": "code",
   "execution_count": 3,
   "metadata": {
    "ExecuteTime": {
     "end_time": "2020-07-08T22:51:19.003750Z",
     "start_time": "2020-07-08T22:51:18.987367Z"
    }
   },
   "outputs": [],
   "source": [
    "class DomainSpecificLanguage(object):\n",
    "    def __init__(self):\n",
    "        self.symbols = None\n",
    "        self.start_symbol = None\n",
    "        self.rules = collections.defaultdict(dict)\n",
    "        \n",
    "    def set_symbols(self, symbols):\n",
    "        if self.symbols is None:\n",
    "            self.symbols = symbols\n",
    "        else:\n",
    "            raise ValueError(\"Symbols can't be reset\")\n",
    "            \n",
    "    def set_start_symbol(self, symbol):\n",
    "        assert isinstance(symbol, self.symbols)\n",
    "        self.start_symbol = symbol\n",
    "            \n",
    "    def add_rule(self, symbol, to, renderer=None):\n",
    "        assert symbol in self.symbols\n",
    "        if not isinstance(to, tuple):\n",
    "            if isinstance(to, str):\n",
    "                to = (to,)\n",
    "            else:\n",
    "                raise ValueError\n",
    "        if renderer is None:\n",
    "            renderer = lambda x: x\n",
    "        self.rules[symbol][to] = renderer\n",
    "    \n",
    "    def get_start_node(self):\n",
    "        return Node(self.symbols.BOOL_EXP)\n",
    "    \n",
    "    def get_available_expansions(self, symbol):\n",
    "        if isinstance(symbol, self.symbols):\n",
    "            return list(self.rules[symbol].keys())\n",
    "        else:\n",
    "            return []\n",
    "    \n",
    "    def expand(self, node, expansion):\n",
    "        assert expansion in self.get_available_expansions(node.name)\n",
    "        children = []\n",
    "        if not isinstance(expansion, tuple):\n",
    "            expansion = (expansion,)\n",
    "        for token in expansion:\n",
    "            child = Node(token, parent=node)\n",
    "            children.append(child)\n",
    "        return children\n",
    "    \n",
    "    def render(self, node):\n",
    "        children_names = tuple(n.name for n in node.children)\n",
    "        if node.name in self.rules:\n",
    "            assert isinstance(node.name, self.symbols)\n",
    "            renderer = self.rules[node.name][children_names]\n",
    "            renderer_args = [self.render(child) for child in node.children]\n",
    "            return renderer(*renderer_args)\n",
    "        else:\n",
    "            assert isinstance(node.name, str)\n",
    "            return node.name\n",
    "        \n",
    "    def bnf(self):\n",
    "        lines = []\n",
    "        for symbol in self.rules:\n",
    "            head = f\"<{symbol.name}> ::= \"\n",
    "            branches = []\n",
    "            for branch in self.rules[symbol]:\n",
    "                branch_tokens = [self._to_bnf_token(item) for item in branch]\n",
    "                branches.append(' '.join(branch_tokens))\n",
    "            tail = ' | '.join(branches)\n",
    "            lines.append(head + tail)\n",
    "        return '\\n'.join(lines)\n",
    "        \n",
    "    def _to_bnf_token(self, item):\n",
    "        if isinstance(item, self.symbols):\n",
    "            return f\"<{item.name}>\"\n",
    "        elif isinstance(item, str):\n",
    "            return f\"\\\"{item}\\\"\"\n",
    "        else:\n",
    "            raise ValueError"
   ]
  },
  {
   "cell_type": "code",
   "execution_count": 4,
   "metadata": {
    "ExecuteTime": {
     "end_time": "2020-07-08T22:51:19.008891Z",
     "start_time": "2020-07-08T22:51:19.005931Z"
    }
   },
   "outputs": [],
   "source": [
    "def expand_randomly(node):\n",
    "    available_expansions = dsl.get_available_expansions(node.name)\n",
    "    if available_expansions:\n",
    "        expansion = random.choice(available_expansions)\n",
    "        children = dsl.expand(node, expansion)\n",
    "        for child in children:\n",
    "            expand_randomly(child)\n",
    "    return node"
   ]
  },
  {
   "cell_type": "code",
   "execution_count": 5,
   "metadata": {
    "ExecuteTime": {
     "end_time": "2020-07-08T22:51:19.013434Z",
     "start_time": "2020-07-08T22:51:19.010655Z"
    }
   },
   "outputs": [],
   "source": [
    "class Synthesizer(object):\n",
    "    def __init__(self, dsl):\n",
    "        self.dsl = dsl\n",
    "        \n",
    "    def synthesize(self, task):\n",
    "        pass"
   ]
  },
  {
   "cell_type": "code",
   "execution_count": 6,
   "metadata": {
    "ExecuteTime": {
     "end_time": "2020-07-08T22:51:19.018043Z",
     "start_time": "2020-07-08T22:51:19.015181Z"
    }
   },
   "outputs": [],
   "source": [
    "class RandomSynthesizer(Synthesizer):\n",
    "    def synthesize(self, task):\n",
    "        start = self.dsl.get_start_node()\n",
    "        return self.dsl.render(expand_randomly(start))"
   ]
  },
  {
   "cell_type": "code",
   "execution_count": 7,
   "metadata": {
    "ExecuteTime": {
     "end_time": "2020-07-08T22:51:19.025174Z",
     "start_time": "2020-07-08T22:51:19.019595Z"
    }
   },
   "outputs": [],
   "source": [
    "class RandomBestFitSynthesizer(Synthesizer):\n",
    "    def __init__(self, dsl, executor, num_trials):\n",
    "        self.dsl = dsl\n",
    "        self.executor = executor\n",
    "        self.num_trials = num_trials\n",
    "        \n",
    "    def synthesize(self, task):\n",
    "        curr_best_acc = 0\n",
    "        curr_best_program = None\n",
    "        for i in range(self.num_trials):\n",
    "            start = self.dsl.get_start_node()\n",
    "            program = self.dsl.render(expand_randomly(start))\n",
    "            results = []\n",
    "            for x, y in zip(task['x'], task['y']):\n",
    "                result = self.executor.run(program, feed={'x': x}) == y \n",
    "                results.append(result)\n",
    "            acc = np.mean(results).item()\n",
    "            if acc >= curr_best_acc:\n",
    "                curr_best_acc = acc\n",
    "                curr_best_program = program\n",
    "        return curr_best_program"
   ]
  },
  {
   "cell_type": "code",
   "execution_count": 8,
   "metadata": {
    "ExecuteTime": {
     "end_time": "2020-07-08T22:51:19.032932Z",
     "start_time": "2020-07-08T22:51:19.028795Z"
    }
   },
   "outputs": [],
   "source": [
    "class Executor(object):\n",
    "    def run(self, program, feed=None):\n",
    "        pass\n",
    "\n",
    "class PythonExecutor(Executor):\n",
    "    def __init__(self, sketch=None):\n",
    "        self.sketch = sketch\n",
    "        \n",
    "    def run(self, program, feed=None):\n",
    "        if self.sketch:\n",
    "            program = self.sketch.format(program)\n",
    "        \n",
    "        temp_locals = {'feed': feed}\n",
    "        exec(program, globals(), temp_locals)\n",
    "        return temp_locals['result']"
   ]
  },
  {
   "cell_type": "code",
   "execution_count": 9,
   "metadata": {
    "ExecuteTime": {
     "end_time": "2020-07-08T22:51:19.039191Z",
     "start_time": "2020-07-08T22:51:19.035495Z"
    }
   },
   "outputs": [
    {
     "name": "stdout",
     "output_type": "stream",
     "text": [
      "3\n",
      "0\n",
      "False\n",
      "True\n"
     ]
    }
   ],
   "source": [
    "# executor tests\n",
    "sketch = r\"\"\"\n",
    "def foo():\n",
    "    x = [0, 1, 2, 3]\n",
    "    return {0}(x)\n",
    "    \n",
    "result = foo()\n",
    "\"\"\"\n",
    "executor = PythonExecutor(sketch)\n",
    "print(executor.run(\"max\"))\n",
    "print(executor.run(\"min\"))\n",
    "print(executor.run(\"all\"))\n",
    "print(executor.run(\"any\"))"
   ]
  },
  {
   "cell_type": "markdown",
   "metadata": {},
   "source": [
    "# Data Creation "
   ]
  },
  {
   "cell_type": "code",
   "execution_count": 10,
   "metadata": {
    "ExecuteTime": {
     "end_time": "2020-07-08T22:51:19.049056Z",
     "start_time": "2020-07-08T22:51:19.040504Z"
    }
   },
   "outputs": [],
   "source": [
    "def get_random_operation(input_len):\n",
    "    op_pool = []\n",
    "    for i in range(input_len):\n",
    "        for j in range(input_len):\n",
    "            if i != j:\n",
    "                and_func = lambda x, i=i, j=j: x[i] and x[j]\n",
    "                and_func.str = f\"(x[{i}] and x[{j}])\"\n",
    "                op_pool.append(and_func)\n",
    "                or_func = lambda x, i=i, j=j: x[i] or x[j]\n",
    "                or_func.str = f\"(x[{i}] or x[{j}])\"\n",
    "                op_pool.append(or_func)\n",
    "        not_func = lambda x, i=i: not x[i]\n",
    "        not_func.str = f\"not(x[{i}])\"\n",
    "        op_pool.append(not_func)\n",
    "    num_ops = random.randint(1, 4)\n",
    "    ops = [random.choice(op_pool) for _ in range(num_ops)]\n",
    "    def func(x):\n",
    "        val = True\n",
    "        for op in ops:\n",
    "            val = val and op(x)\n",
    "        return val\n",
    "    return func, ops\n",
    "\n",
    "def get_tasks(input_len=5, num_tasks=100, num_samples_per_task=100):\n",
    "    data = []\n",
    "    for _ in tqdm(range(num_tasks)):\n",
    "        task_true_func, ops = get_random_operation(input_len=input_len)\n",
    "        task_data = {'x': [], 'y': [], 'true_ops': ops}\n",
    "        for _ in range(num_samples_per_task):\n",
    "            x = [random.choice([True, False]) for _ in range(input_len)]\n",
    "            y = task_true_func(x)\n",
    "            task_data['x'].append(x)\n",
    "            task_data['y'].append(y)\n",
    "        data.append(task_data)\n",
    "    return data"
   ]
  },
  {
   "cell_type": "markdown",
   "metadata": {},
   "source": [
    "# Testing"
   ]
  },
  {
   "cell_type": "markdown",
   "metadata": {},
   "source": [
    "## DSL definition"
   ]
  },
  {
   "cell_type": "code",
   "execution_count": 11,
   "metadata": {
    "ExecuteTime": {
     "end_time": "2020-07-08T22:51:19.058435Z",
     "start_time": "2020-07-08T22:51:19.050589Z"
    }
   },
   "outputs": [
    {
     "name": "stdout",
     "output_type": "stream",
     "text": [
      "<BOOL_EXP> ::= <BOOL> <AND> <BOOL> | <BOOL> <OR> <BOOL> | <NOT> <BOOL>\n",
      "<AND> ::= \"and\"\n",
      "<OR> ::= \"or\"\n",
      "<NOT> ::= \"not\"\n",
      "<BOOL> ::= \"x[0]\" | \"x[1]\" | \"x[2]\" | \"x[3]\" | \"x[4]\"\n"
     ]
    }
   ],
   "source": [
    "class Symbol(Enum):\n",
    "    BOOL_EXP = auto()\n",
    "    AND = auto()\n",
    "    OR = auto()\n",
    "    NOT = auto()\n",
    "    BOOL = auto()\n",
    "\n",
    "dsl = DomainSpecificLanguage()\n",
    "dsl.set_symbols(Symbol)\n",
    "dsl.set_start_symbol(Symbol.BOOL_EXP)\n",
    "dsl.add_rule(\n",
    "    symbol=Symbol.BOOL_EXP,\n",
    "    to=(Symbol.BOOL, Symbol.AND, Symbol.BOOL),\n",
    "    renderer=lambda lhs, and_, rhs: f\"({lhs} {and_} {rhs})\"\n",
    ")\n",
    "dsl.add_rule(\n",
    "    symbol=Symbol.BOOL_EXP,\n",
    "    to=(Symbol.BOOL, Symbol.OR, Symbol.BOOL),\n",
    "    renderer=lambda lhs, or_, rhs: f\"({lhs} {or_} {rhs})\"\n",
    ")\n",
    "dsl.add_rule(\n",
    "    symbol=Symbol.BOOL_EXP,\n",
    "    to=(Symbol.NOT, Symbol.BOOL),\n",
    "    renderer=lambda not_, bool_: f\"{not_}({bool_})\"\n",
    ")\n",
    "dsl.add_rule(symbol=Symbol.AND, to=\"and\")\n",
    "dsl.add_rule(symbol=Symbol.OR, to=\"or\")\n",
    "dsl.add_rule(symbol=Symbol.NOT, to=\"not\")\n",
    "for i in range(5):\n",
    "    dsl.add_rule(symbol=Symbol.BOOL, to=f\"x[{str(i)}]\")\n",
    "    \n",
    "print(dsl.bnf())"
   ]
  },
  {
   "cell_type": "code",
   "execution_count": 12,
   "metadata": {
    "ExecuteTime": {
     "end_time": "2020-07-08T22:51:19.061819Z",
     "start_time": "2020-07-08T22:51:19.059733Z"
    }
   },
   "outputs": [],
   "source": [
    "sketch = r\"\"\"\n",
    "def compute(x):\n",
    "    return {0}\n",
    "result = compute(feed[\"x\"])\n",
    "\"\"\"\n",
    "executor = PythonExecutor(sketch)"
   ]
  },
  {
   "cell_type": "markdown",
   "metadata": {
    "ExecuteTime": {
     "end_time": "2020-07-08T20:04:04.595918Z",
     "start_time": "2020-07-08T20:04:04.594100Z"
    }
   },
   "source": [
    "## test on data"
   ]
  },
  {
   "cell_type": "code",
   "execution_count": 13,
   "metadata": {
    "ExecuteTime": {
     "end_time": "2020-07-08T22:51:19.068545Z",
     "start_time": "2020-07-08T22:51:19.063200Z"
    },
    "scrolled": false
   },
   "outputs": [],
   "source": [
    "def evaluate(synthesizer, tasks):\n",
    "    task_results = []\n",
    "    for task in tasks:\n",
    "        split = int(0.8 * len(task['x']))\n",
    "        train_x, train_y = task['x'][:split], task['y'][:split]\n",
    "        test_x, test_y = task['x'][split:], task['y'][split:]\n",
    "\n",
    "        program = synthesizer.synthesize({'x': train_x, 'y': train_y})\n",
    "        task_result = []\n",
    "        for x, y in zip(test_x, test_y):\n",
    "            output = executor.run(program, feed={\"x\": x})\n",
    "            task_result.append(output == y)\n",
    "        task_results.append(task_result)\n",
    "    return task_results"
   ]
  },
  {
   "cell_type": "code",
   "execution_count": 14,
   "metadata": {
    "ExecuteTime": {
     "end_time": "2020-07-08T22:51:19.154726Z",
     "start_time": "2020-07-08T22:51:19.070370Z"
    }
   },
   "outputs": [
    {
     "data": {
      "application/vnd.jupyter.widget-view+json": {
       "model_id": "3f06f19700ed4a739b6b1510ef73e405",
       "version_major": 2,
       "version_minor": 0
      },
      "text/plain": [
       "HBox(children=(FloatProgress(value=0.0), HTML(value='')))"
      ]
     },
     "metadata": {},
     "output_type": "display_data"
    },
    {
     "name": "stdout",
     "output_type": "stream",
     "text": [
      "\n"
     ]
    }
   ],
   "source": [
    "tasks = get_tasks(num_tasks=100, num_samples_per_task=100)"
   ]
  },
  {
   "cell_type": "code",
   "execution_count": 15,
   "metadata": {
    "ExecuteTime": {
     "end_time": "2020-07-08T22:51:19.232706Z",
     "start_time": "2020-07-08T22:51:19.156297Z"
    }
   },
   "outputs": [
    {
     "name": "stdout",
     "output_type": "stream",
     "text": [
      "0.5315\n"
     ]
    }
   ],
   "source": [
    "# random baseline\n",
    "syn = RandomSynthesizer(dsl)\n",
    "results = evaluate(syn, tasks)\n",
    "acc = np.array(results).flatten().mean()\n",
    "print(acc)"
   ]
  },
  {
   "cell_type": "code",
   "execution_count": 16,
   "metadata": {
    "ExecuteTime": {
     "end_time": "2020-07-08T22:51:32.442062Z",
     "start_time": "2020-07-08T22:51:19.233929Z"
    }
   },
   "outputs": [
    {
     "name": "stdout",
     "output_type": "stream",
     "text": [
      "4 0.689\n",
      "8 0.773\n",
      "16 0.8\n",
      "32 0.8315\n"
     ]
    }
   ],
   "source": [
    "for num_trials in [4, 8, 16, 32]:\n",
    "    syn = RandomBestFitSynthesizer(dsl, executor=executor, num_trials=num_trials)\n",
    "    results = evaluate(syn, tasks)\n",
    "    acc = np.array(results).flatten().mean()\n",
    "    print(num_trials, acc)"
   ]
  },
  {
   "cell_type": "code",
   "execution_count": 17,
   "metadata": {
    "ExecuteTime": {
     "end_time": "2020-07-08T22:51:35.904190Z",
     "start_time": "2020-07-08T22:51:32.443643Z"
    }
   },
   "outputs": [
    {
     "name": "stdout",
     "output_type": "stream",
     "text": [
      "generated program:  (x[1] and x[3])\n",
      "actual program:  (x[2] and x[1]) and (x[0] or x[1]) and (x[3] or x[1])\n",
      "\n",
      "generated program:  (x[2] and x[0])\n",
      "actual program:  (x[0] and x[2]) and (x[3] and x[2]) and (x[2] and x[3]) and (x[4] and x[2])\n",
      "\n",
      "generated program:  (x[1] and x[3])\n",
      "actual program:  (x[2] or x[3]) and (x[1] or x[4]) and not(x[2]) and not(x[4])\n",
      "\n",
      "generated program:  (x[4] and x[0])\n",
      "actual program:  (x[4] or x[3]) and (x[4] and x[0])\n",
      "\n",
      "generated program:  (x[2] and x[0])\n",
      "actual program:  (x[4] or x[2]) and (x[3] and x[2]) and (x[3] and x[0]) and (x[2] or x[0])\n",
      "\n",
      "generated program:  (x[0] and x[2])\n",
      "actual program:  (x[0] and x[2])\n",
      "\n",
      "generated program:  (x[0] and x[2])\n",
      "actual program:  (x[2] and x[0]) and (x[1] and x[3]) and (x[2] and x[4]) and (x[1] and x[3])\n",
      "\n",
      "generated program:  (x[1] and x[3])\n",
      "actual program:  (x[3] and x[1]) and not(x[4]) and (x[0] or x[3])\n",
      "\n",
      "generated program:  (x[2] and x[0])\n",
      "actual program:  (x[3] or x[2]) and (x[2] and x[0]) and (x[3] and x[2]) and (x[0] or x[1])\n",
      "\n",
      "generated program:  (x[2] and x[4])\n",
      "actual program:  (x[2] and x[4]) and (x[2] or x[4])\n",
      "\n",
      "generated program:  (x[0] and x[2])\n",
      "actual program:  (x[0] and x[2]) and (x[2] or x[3]) and (x[0] and x[2]) and (x[0] or x[1])\n",
      "\n",
      "generated program:  (x[0] and x[2])\n",
      "actual program:  (x[2] or x[3]) and (x[1] or x[3]) and (x[1] and x[0]) and (x[2] and x[1])\n",
      "\n",
      "generated program:  (x[4] and x[3])\n",
      "actual program:  (x[4] and x[3])\n",
      "\n",
      "generated program:  (x[4] and x[0])\n",
      "actual program:  (x[0] and x[4])\n",
      "\n",
      "generated program:  (x[2] and x[4])\n",
      "actual program:  not(x[1]) and (x[2] or x[1]) and (x[4] and x[2]) and (x[4] or x[0])\n",
      "\n",
      "generated program:  (x[2] and x[4])\n",
      "actual program:  (x[0] and x[2]) and (x[3] and x[2]) and (x[2] and x[3]) and (x[4] and x[2])\n",
      "\n",
      "generated program:  (x[4] and x[1])\n",
      "actual program:  (x[0] or x[4]) and (x[0] and x[4]) and (x[0] or x[2]) and (x[1] and x[0])\n",
      "\n",
      "generated program:  (x[4] and x[3])\n",
      "actual program:  (x[4] and x[2]) and not(x[4]) and (x[2] or x[4]) and not(x[3])\n",
      "\n",
      "generated program:  not(x[4])\n",
      "actual program:  not(x[4]) and (x[0] or x[2])\n",
      "\n",
      "generated program:  (x[3] and x[4])\n",
      "actual program:  (x[4] or x[2]) and (x[3] and x[4]) and (x[4] or x[3])\n",
      "\n"
     ]
    }
   ],
   "source": [
    "for _ in range(20):\n",
    "    num_trials = 64\n",
    "    task = random.choice(tasks)\n",
    "    syn = RandomBestFitSynthesizer(dsl, executor=executor, num_trials=num_trials)\n",
    "    program = syn.synthesize(task)\n",
    "    print(\"generated program: \", program)\n",
    "    print(\"actual program: \", ' and '.join(op.str for op in task['true_ops']))\n",
    "    print()"
   ]
  }
 ],
 "metadata": {
  "hide_input": false,
  "kernelspec": {
   "display_name": "maratus",
   "language": "python",
   "name": "maratus"
  },
  "language_info": {
   "codemirror_mode": {
    "name": "ipython",
    "version": 3
   },
   "file_extension": ".py",
   "mimetype": "text/x-python",
   "name": "python",
   "nbconvert_exporter": "python",
   "pygments_lexer": "ipython3",
   "version": "3.7.7"
  },
  "toc": {
   "base_numbering": 1,
   "nav_menu": {},
   "number_sections": true,
   "sideBar": true,
   "skip_h1_title": false,
   "title_cell": "Table of Contents",
   "title_sidebar": "Contents",
   "toc_cell": false,
   "toc_position": {},
   "toc_section_display": true,
   "toc_window_display": false
  }
 },
 "nbformat": 4,
 "nbformat_minor": 4
}
